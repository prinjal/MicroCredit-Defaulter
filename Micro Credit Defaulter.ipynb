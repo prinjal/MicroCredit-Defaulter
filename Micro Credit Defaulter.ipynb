{
 "cells": [
  {
   "cell_type": "code",
   "execution_count": 1,
   "metadata": {},
   "outputs": [],
   "source": [
    "#Import\n",
    "\n",
    "#Generic\n",
    "import numpy as np,pandas as pd, matplotlib.pyplot as plt, seaborn as sns, joblib\n",
    "from matplotlib.ticker import FormatStrFormatter\n",
    "\n",
    "#Statistics\n",
    "from scipy.stats import zscore\n",
    "\n",
    "#Scaler\n",
    "from sklearn.preprocessing import StandardScaler,MinMaxScaler\n",
    "\n",
    "#Skewness\n",
    "from sklearn.preprocessing import PowerTransformer\n",
    "\n",
    "#Train Test Split\n",
    "from sklearn.model_selection import train_test_split\n",
    "\n",
    "#Resample\n",
    "from sklearn.utils import resample\n",
    "\n",
    "#Feature Selection\n",
    "from sklearn.feature_selection import SelectKBest,chi2,f_classif, VarianceThreshold\n",
    "from statsmodels.stats.outliers_influence import variance_inflation_factor\n",
    "\n",
    "#Decomposition\n",
    "from sklearn.decomposition import PCA\n",
    "\n",
    "#Cross Validation\n",
    "from sklearn.model_selection import cross_val_score\n",
    "\n",
    "#Hypertune Parameters\n",
    "from sklearn.model_selection import GridSearchCV\n",
    "\n",
    "#Classification Models\n",
    "from sklearn.linear_model import LogisticRegression\n",
    "from sklearn.svm import SVC\n",
    "from sklearn.neighbors import KNeighborsClassifier\n",
    "from sklearn.ensemble import RandomForestClassifier, AdaBoostClassifier, GradientBoostingClassifier\n",
    "import xgboost as xgb\n",
    "\n",
    "#Classification Metrics\n",
    "from sklearn.metrics import classification_report,confusion_matrix,f1_score,accuracy_score,recall_score,precision_score\n",
    "from sklearn.metrics import auc,roc_curve"
   ]
  },
  {
   "cell_type": "code",
   "execution_count": 2,
   "metadata": {},
   "outputs": [],
   "source": [
    "#Import data into a DataFrame\n",
    "df=pd.read_csv('Data file copy.csv',parse_dates=True)"
   ]
  },
  {
   "cell_type": "code",
   "execution_count": 3,
   "metadata": {},
   "outputs": [
    {
     "data": {
      "text/html": [
       "<div>\n",
       "<style scoped>\n",
       "    .dataframe tbody tr th:only-of-type {\n",
       "        vertical-align: middle;\n",
       "    }\n",
       "\n",
       "    .dataframe tbody tr th {\n",
       "        vertical-align: top;\n",
       "    }\n",
       "\n",
       "    .dataframe thead th {\n",
       "        text-align: right;\n",
       "    }\n",
       "</style>\n",
       "<table border=\"1\" class=\"dataframe\">\n",
       "  <thead>\n",
       "    <tr style=\"text-align: right;\">\n",
       "      <th></th>\n",
       "      <th>Unnamed: 0</th>\n",
       "      <th>label</th>\n",
       "      <th>msisdn</th>\n",
       "      <th>aon</th>\n",
       "      <th>daily_decr30</th>\n",
       "      <th>daily_decr90</th>\n",
       "      <th>rental30</th>\n",
       "      <th>rental90</th>\n",
       "      <th>last_rech_date_ma</th>\n",
       "      <th>last_rech_date_da</th>\n",
       "      <th>...</th>\n",
       "      <th>maxamnt_loans30</th>\n",
       "      <th>medianamnt_loans30</th>\n",
       "      <th>cnt_loans90</th>\n",
       "      <th>amnt_loans90</th>\n",
       "      <th>maxamnt_loans90</th>\n",
       "      <th>medianamnt_loans90</th>\n",
       "      <th>payback30</th>\n",
       "      <th>payback90</th>\n",
       "      <th>pcircle</th>\n",
       "      <th>pdate</th>\n",
       "    </tr>\n",
       "  </thead>\n",
       "  <tbody>\n",
       "    <tr>\n",
       "      <th>0</th>\n",
       "      <td>1</td>\n",
       "      <td>0</td>\n",
       "      <td>21408I70789</td>\n",
       "      <td>272.0</td>\n",
       "      <td>3055.050000</td>\n",
       "      <td>3065.150000</td>\n",
       "      <td>220.13</td>\n",
       "      <td>260.13</td>\n",
       "      <td>2.0</td>\n",
       "      <td>0.0</td>\n",
       "      <td>...</td>\n",
       "      <td>6.0</td>\n",
       "      <td>0.0</td>\n",
       "      <td>2.0</td>\n",
       "      <td>12</td>\n",
       "      <td>6</td>\n",
       "      <td>0.0</td>\n",
       "      <td>29.000000</td>\n",
       "      <td>29.000000</td>\n",
       "      <td>UPW</td>\n",
       "      <td>2016-07-20</td>\n",
       "    </tr>\n",
       "    <tr>\n",
       "      <th>1</th>\n",
       "      <td>2</td>\n",
       "      <td>1</td>\n",
       "      <td>76462I70374</td>\n",
       "      <td>712.0</td>\n",
       "      <td>12122.000000</td>\n",
       "      <td>12124.750000</td>\n",
       "      <td>3691.26</td>\n",
       "      <td>3691.26</td>\n",
       "      <td>20.0</td>\n",
       "      <td>0.0</td>\n",
       "      <td>...</td>\n",
       "      <td>12.0</td>\n",
       "      <td>0.0</td>\n",
       "      <td>1.0</td>\n",
       "      <td>12</td>\n",
       "      <td>12</td>\n",
       "      <td>0.0</td>\n",
       "      <td>0.000000</td>\n",
       "      <td>0.000000</td>\n",
       "      <td>UPW</td>\n",
       "      <td>2016-08-10</td>\n",
       "    </tr>\n",
       "    <tr>\n",
       "      <th>2</th>\n",
       "      <td>3</td>\n",
       "      <td>1</td>\n",
       "      <td>17943I70372</td>\n",
       "      <td>535.0</td>\n",
       "      <td>1398.000000</td>\n",
       "      <td>1398.000000</td>\n",
       "      <td>900.13</td>\n",
       "      <td>900.13</td>\n",
       "      <td>3.0</td>\n",
       "      <td>0.0</td>\n",
       "      <td>...</td>\n",
       "      <td>6.0</td>\n",
       "      <td>0.0</td>\n",
       "      <td>1.0</td>\n",
       "      <td>6</td>\n",
       "      <td>6</td>\n",
       "      <td>0.0</td>\n",
       "      <td>0.000000</td>\n",
       "      <td>0.000000</td>\n",
       "      <td>UPW</td>\n",
       "      <td>2016-08-19</td>\n",
       "    </tr>\n",
       "    <tr>\n",
       "      <th>3</th>\n",
       "      <td>4</td>\n",
       "      <td>1</td>\n",
       "      <td>55773I70781</td>\n",
       "      <td>241.0</td>\n",
       "      <td>21.228000</td>\n",
       "      <td>21.228000</td>\n",
       "      <td>159.42</td>\n",
       "      <td>159.42</td>\n",
       "      <td>41.0</td>\n",
       "      <td>0.0</td>\n",
       "      <td>...</td>\n",
       "      <td>6.0</td>\n",
       "      <td>0.0</td>\n",
       "      <td>2.0</td>\n",
       "      <td>12</td>\n",
       "      <td>6</td>\n",
       "      <td>0.0</td>\n",
       "      <td>0.000000</td>\n",
       "      <td>0.000000</td>\n",
       "      <td>UPW</td>\n",
       "      <td>2016-06-06</td>\n",
       "    </tr>\n",
       "    <tr>\n",
       "      <th>4</th>\n",
       "      <td>5</td>\n",
       "      <td>1</td>\n",
       "      <td>03813I82730</td>\n",
       "      <td>947.0</td>\n",
       "      <td>150.619333</td>\n",
       "      <td>150.619333</td>\n",
       "      <td>1098.90</td>\n",
       "      <td>1098.90</td>\n",
       "      <td>4.0</td>\n",
       "      <td>0.0</td>\n",
       "      <td>...</td>\n",
       "      <td>6.0</td>\n",
       "      <td>0.0</td>\n",
       "      <td>7.0</td>\n",
       "      <td>42</td>\n",
       "      <td>6</td>\n",
       "      <td>0.0</td>\n",
       "      <td>2.333333</td>\n",
       "      <td>2.333333</td>\n",
       "      <td>UPW</td>\n",
       "      <td>2016-06-22</td>\n",
       "    </tr>\n",
       "  </tbody>\n",
       "</table>\n",
       "<p>5 rows × 37 columns</p>\n",
       "</div>"
      ],
      "text/plain": [
       "   Unnamed: 0  label       msisdn    aon  daily_decr30  daily_decr90  \\\n",
       "0           1      0  21408I70789  272.0   3055.050000   3065.150000   \n",
       "1           2      1  76462I70374  712.0  12122.000000  12124.750000   \n",
       "2           3      1  17943I70372  535.0   1398.000000   1398.000000   \n",
       "3           4      1  55773I70781  241.0     21.228000     21.228000   \n",
       "4           5      1  03813I82730  947.0    150.619333    150.619333   \n",
       "\n",
       "   rental30  rental90  last_rech_date_ma  last_rech_date_da  ...  \\\n",
       "0    220.13    260.13                2.0                0.0  ...   \n",
       "1   3691.26   3691.26               20.0                0.0  ...   \n",
       "2    900.13    900.13                3.0                0.0  ...   \n",
       "3    159.42    159.42               41.0                0.0  ...   \n",
       "4   1098.90   1098.90                4.0                0.0  ...   \n",
       "\n",
       "   maxamnt_loans30  medianamnt_loans30  cnt_loans90  amnt_loans90  \\\n",
       "0              6.0                 0.0          2.0            12   \n",
       "1             12.0                 0.0          1.0            12   \n",
       "2              6.0                 0.0          1.0             6   \n",
       "3              6.0                 0.0          2.0            12   \n",
       "4              6.0                 0.0          7.0            42   \n",
       "\n",
       "   maxamnt_loans90  medianamnt_loans90  payback30  payback90  pcircle  \\\n",
       "0                6                 0.0  29.000000  29.000000      UPW   \n",
       "1               12                 0.0   0.000000   0.000000      UPW   \n",
       "2                6                 0.0   0.000000   0.000000      UPW   \n",
       "3                6                 0.0   0.000000   0.000000      UPW   \n",
       "4                6                 0.0   2.333333   2.333333      UPW   \n",
       "\n",
       "        pdate  \n",
       "0  2016-07-20  \n",
       "1  2016-08-10  \n",
       "2  2016-08-19  \n",
       "3  2016-06-06  \n",
       "4  2016-06-22  \n",
       "\n",
       "[5 rows x 37 columns]"
      ]
     },
     "execution_count": 3,
     "metadata": {},
     "output_type": "execute_result"
    }
   ],
   "source": [
    "#Check head\n",
    "df.head()"
   ]
  },
  {
   "cell_type": "code",
   "execution_count": 4,
   "metadata": {},
   "outputs": [],
   "source": [
    "#Delete first column of index\n",
    "df=df.drop('Unnamed: 0',axis=1)"
   ]
  },
  {
   "cell_type": "code",
   "execution_count": 5,
   "metadata": {},
   "outputs": [
    {
     "name": "stdout",
     "output_type": "stream",
     "text": [
      "<class 'pandas.core.frame.DataFrame'>\n",
      "RangeIndex: 209593 entries, 0 to 209592\n",
      "Data columns (total 36 columns):\n",
      " #   Column                Non-Null Count   Dtype  \n",
      "---  ------                --------------   -----  \n",
      " 0   label                 209593 non-null  int64  \n",
      " 1   msisdn                209593 non-null  object \n",
      " 2   aon                   209593 non-null  float64\n",
      " 3   daily_decr30          209593 non-null  float64\n",
      " 4   daily_decr90          209593 non-null  float64\n",
      " 5   rental30              209593 non-null  float64\n",
      " 6   rental90              209593 non-null  float64\n",
      " 7   last_rech_date_ma     209593 non-null  float64\n",
      " 8   last_rech_date_da     209593 non-null  float64\n",
      " 9   last_rech_amt_ma      209593 non-null  int64  \n",
      " 10  cnt_ma_rech30         209593 non-null  int64  \n",
      " 11  fr_ma_rech30          209593 non-null  float64\n",
      " 12  sumamnt_ma_rech30     209593 non-null  float64\n",
      " 13  medianamnt_ma_rech30  209593 non-null  float64\n",
      " 14  medianmarechprebal30  209593 non-null  float64\n",
      " 15  cnt_ma_rech90         209593 non-null  int64  \n",
      " 16  fr_ma_rech90          209593 non-null  int64  \n",
      " 17  sumamnt_ma_rech90     209593 non-null  int64  \n",
      " 18  medianamnt_ma_rech90  209593 non-null  float64\n",
      " 19  medianmarechprebal90  209593 non-null  float64\n",
      " 20  cnt_da_rech30         209593 non-null  float64\n",
      " 21  fr_da_rech30          209593 non-null  float64\n",
      " 22  cnt_da_rech90         209593 non-null  int64  \n",
      " 23  fr_da_rech90          209593 non-null  int64  \n",
      " 24  cnt_loans30           209593 non-null  int64  \n",
      " 25  amnt_loans30          209593 non-null  int64  \n",
      " 26  maxamnt_loans30       209593 non-null  float64\n",
      " 27  medianamnt_loans30    209593 non-null  float64\n",
      " 28  cnt_loans90           209593 non-null  float64\n",
      " 29  amnt_loans90          209593 non-null  int64  \n",
      " 30  maxamnt_loans90       209593 non-null  int64  \n",
      " 31  medianamnt_loans90    209593 non-null  float64\n",
      " 32  payback30             209593 non-null  float64\n",
      " 33  payback90             209593 non-null  float64\n",
      " 34  pcircle               209593 non-null  object \n",
      " 35  pdate                 209593 non-null  object \n",
      "dtypes: float64(21), int64(12), object(3)\n",
      "memory usage: 57.6+ MB\n"
     ]
    }
   ],
   "source": [
    "#Check info\n",
    "df.info()\n",
    "#From below we can crossverify the document and conclude that there are no null values"
   ]
  },
  {
   "cell_type": "code",
   "execution_count": 6,
   "metadata": {},
   "outputs": [
    {
     "data": {
      "text/html": [
       "<div>\n",
       "<style scoped>\n",
       "    .dataframe tbody tr th:only-of-type {\n",
       "        vertical-align: middle;\n",
       "    }\n",
       "\n",
       "    .dataframe tbody tr th {\n",
       "        vertical-align: top;\n",
       "    }\n",
       "\n",
       "    .dataframe thead th {\n",
       "        text-align: right;\n",
       "    }\n",
       "</style>\n",
       "<table border=\"1\" class=\"dataframe\">\n",
       "  <thead>\n",
       "    <tr style=\"text-align: right;\">\n",
       "      <th></th>\n",
       "      <th>label</th>\n",
       "      <th>aon</th>\n",
       "      <th>daily_decr30</th>\n",
       "      <th>daily_decr90</th>\n",
       "      <th>rental30</th>\n",
       "      <th>rental90</th>\n",
       "      <th>last_rech_date_ma</th>\n",
       "      <th>last_rech_date_da</th>\n",
       "      <th>last_rech_amt_ma</th>\n",
       "      <th>cnt_ma_rech30</th>\n",
       "      <th>...</th>\n",
       "      <th>cnt_loans30</th>\n",
       "      <th>amnt_loans30</th>\n",
       "      <th>maxamnt_loans30</th>\n",
       "      <th>medianamnt_loans30</th>\n",
       "      <th>cnt_loans90</th>\n",
       "      <th>amnt_loans90</th>\n",
       "      <th>maxamnt_loans90</th>\n",
       "      <th>medianamnt_loans90</th>\n",
       "      <th>payback30</th>\n",
       "      <th>payback90</th>\n",
       "    </tr>\n",
       "  </thead>\n",
       "  <tbody>\n",
       "    <tr>\n",
       "      <th>count</th>\n",
       "      <td>209593.000000</td>\n",
       "      <td>209593.000000</td>\n",
       "      <td>209593.000000</td>\n",
       "      <td>209593.000000</td>\n",
       "      <td>209593.000000</td>\n",
       "      <td>209593.000000</td>\n",
       "      <td>209593.000000</td>\n",
       "      <td>209593.000000</td>\n",
       "      <td>209593.000000</td>\n",
       "      <td>209593.000000</td>\n",
       "      <td>...</td>\n",
       "      <td>209593.000000</td>\n",
       "      <td>209593.000000</td>\n",
       "      <td>209593.000000</td>\n",
       "      <td>209593.000000</td>\n",
       "      <td>209593.000000</td>\n",
       "      <td>209593.000000</td>\n",
       "      <td>209593.000000</td>\n",
       "      <td>209593.000000</td>\n",
       "      <td>209593.000000</td>\n",
       "      <td>209593.000000</td>\n",
       "    </tr>\n",
       "    <tr>\n",
       "      <th>mean</th>\n",
       "      <td>0.875177</td>\n",
       "      <td>8112.343445</td>\n",
       "      <td>5381.402289</td>\n",
       "      <td>6082.515068</td>\n",
       "      <td>2692.581910</td>\n",
       "      <td>3483.406534</td>\n",
       "      <td>3755.847800</td>\n",
       "      <td>3712.202921</td>\n",
       "      <td>2064.452797</td>\n",
       "      <td>3.978057</td>\n",
       "      <td>...</td>\n",
       "      <td>2.758981</td>\n",
       "      <td>17.952021</td>\n",
       "      <td>274.658747</td>\n",
       "      <td>0.054029</td>\n",
       "      <td>18.520919</td>\n",
       "      <td>23.645398</td>\n",
       "      <td>6.703134</td>\n",
       "      <td>0.046077</td>\n",
       "      <td>3.398826</td>\n",
       "      <td>4.321485</td>\n",
       "    </tr>\n",
       "    <tr>\n",
       "      <th>std</th>\n",
       "      <td>0.330519</td>\n",
       "      <td>75696.082531</td>\n",
       "      <td>9220.623400</td>\n",
       "      <td>10918.812767</td>\n",
       "      <td>4308.586781</td>\n",
       "      <td>5770.461279</td>\n",
       "      <td>53905.892230</td>\n",
       "      <td>53374.833430</td>\n",
       "      <td>2370.786034</td>\n",
       "      <td>4.256090</td>\n",
       "      <td>...</td>\n",
       "      <td>2.554502</td>\n",
       "      <td>17.379741</td>\n",
       "      <td>4245.264648</td>\n",
       "      <td>0.218039</td>\n",
       "      <td>224.797423</td>\n",
       "      <td>26.469861</td>\n",
       "      <td>2.103864</td>\n",
       "      <td>0.200692</td>\n",
       "      <td>8.813729</td>\n",
       "      <td>10.308108</td>\n",
       "    </tr>\n",
       "    <tr>\n",
       "      <th>min</th>\n",
       "      <td>0.000000</td>\n",
       "      <td>-48.000000</td>\n",
       "      <td>-93.012667</td>\n",
       "      <td>-93.012667</td>\n",
       "      <td>-23737.140000</td>\n",
       "      <td>-24720.580000</td>\n",
       "      <td>-29.000000</td>\n",
       "      <td>-29.000000</td>\n",
       "      <td>0.000000</td>\n",
       "      <td>0.000000</td>\n",
       "      <td>...</td>\n",
       "      <td>0.000000</td>\n",
       "      <td>0.000000</td>\n",
       "      <td>0.000000</td>\n",
       "      <td>0.000000</td>\n",
       "      <td>0.000000</td>\n",
       "      <td>0.000000</td>\n",
       "      <td>0.000000</td>\n",
       "      <td>0.000000</td>\n",
       "      <td>0.000000</td>\n",
       "      <td>0.000000</td>\n",
       "    </tr>\n",
       "    <tr>\n",
       "      <th>25%</th>\n",
       "      <td>1.000000</td>\n",
       "      <td>246.000000</td>\n",
       "      <td>42.440000</td>\n",
       "      <td>42.692000</td>\n",
       "      <td>280.420000</td>\n",
       "      <td>300.260000</td>\n",
       "      <td>1.000000</td>\n",
       "      <td>0.000000</td>\n",
       "      <td>770.000000</td>\n",
       "      <td>1.000000</td>\n",
       "      <td>...</td>\n",
       "      <td>1.000000</td>\n",
       "      <td>6.000000</td>\n",
       "      <td>6.000000</td>\n",
       "      <td>0.000000</td>\n",
       "      <td>1.000000</td>\n",
       "      <td>6.000000</td>\n",
       "      <td>6.000000</td>\n",
       "      <td>0.000000</td>\n",
       "      <td>0.000000</td>\n",
       "      <td>0.000000</td>\n",
       "    </tr>\n",
       "    <tr>\n",
       "      <th>50%</th>\n",
       "      <td>1.000000</td>\n",
       "      <td>527.000000</td>\n",
       "      <td>1469.175667</td>\n",
       "      <td>1500.000000</td>\n",
       "      <td>1083.570000</td>\n",
       "      <td>1334.000000</td>\n",
       "      <td>3.000000</td>\n",
       "      <td>0.000000</td>\n",
       "      <td>1539.000000</td>\n",
       "      <td>3.000000</td>\n",
       "      <td>...</td>\n",
       "      <td>2.000000</td>\n",
       "      <td>12.000000</td>\n",
       "      <td>6.000000</td>\n",
       "      <td>0.000000</td>\n",
       "      <td>2.000000</td>\n",
       "      <td>12.000000</td>\n",
       "      <td>6.000000</td>\n",
       "      <td>0.000000</td>\n",
       "      <td>0.000000</td>\n",
       "      <td>1.666667</td>\n",
       "    </tr>\n",
       "    <tr>\n",
       "      <th>75%</th>\n",
       "      <td>1.000000</td>\n",
       "      <td>982.000000</td>\n",
       "      <td>7244.000000</td>\n",
       "      <td>7802.790000</td>\n",
       "      <td>3356.940000</td>\n",
       "      <td>4201.790000</td>\n",
       "      <td>7.000000</td>\n",
       "      <td>0.000000</td>\n",
       "      <td>2309.000000</td>\n",
       "      <td>5.000000</td>\n",
       "      <td>...</td>\n",
       "      <td>4.000000</td>\n",
       "      <td>24.000000</td>\n",
       "      <td>6.000000</td>\n",
       "      <td>0.000000</td>\n",
       "      <td>5.000000</td>\n",
       "      <td>30.000000</td>\n",
       "      <td>6.000000</td>\n",
       "      <td>0.000000</td>\n",
       "      <td>3.750000</td>\n",
       "      <td>4.500000</td>\n",
       "    </tr>\n",
       "    <tr>\n",
       "      <th>max</th>\n",
       "      <td>1.000000</td>\n",
       "      <td>999860.755168</td>\n",
       "      <td>265926.000000</td>\n",
       "      <td>320630.000000</td>\n",
       "      <td>198926.110000</td>\n",
       "      <td>200148.110000</td>\n",
       "      <td>998650.377733</td>\n",
       "      <td>999171.809410</td>\n",
       "      <td>55000.000000</td>\n",
       "      <td>203.000000</td>\n",
       "      <td>...</td>\n",
       "      <td>50.000000</td>\n",
       "      <td>306.000000</td>\n",
       "      <td>99864.560864</td>\n",
       "      <td>3.000000</td>\n",
       "      <td>4997.517944</td>\n",
       "      <td>438.000000</td>\n",
       "      <td>12.000000</td>\n",
       "      <td>3.000000</td>\n",
       "      <td>171.500000</td>\n",
       "      <td>171.500000</td>\n",
       "    </tr>\n",
       "  </tbody>\n",
       "</table>\n",
       "<p>8 rows × 33 columns</p>\n",
       "</div>"
      ],
      "text/plain": [
       "               label            aon   daily_decr30   daily_decr90  \\\n",
       "count  209593.000000  209593.000000  209593.000000  209593.000000   \n",
       "mean        0.875177    8112.343445    5381.402289    6082.515068   \n",
       "std         0.330519   75696.082531    9220.623400   10918.812767   \n",
       "min         0.000000     -48.000000     -93.012667     -93.012667   \n",
       "25%         1.000000     246.000000      42.440000      42.692000   \n",
       "50%         1.000000     527.000000    1469.175667    1500.000000   \n",
       "75%         1.000000     982.000000    7244.000000    7802.790000   \n",
       "max         1.000000  999860.755168  265926.000000  320630.000000   \n",
       "\n",
       "            rental30       rental90  last_rech_date_ma  last_rech_date_da  \\\n",
       "count  209593.000000  209593.000000      209593.000000      209593.000000   \n",
       "mean     2692.581910    3483.406534        3755.847800        3712.202921   \n",
       "std      4308.586781    5770.461279       53905.892230       53374.833430   \n",
       "min    -23737.140000  -24720.580000         -29.000000         -29.000000   \n",
       "25%       280.420000     300.260000           1.000000           0.000000   \n",
       "50%      1083.570000    1334.000000           3.000000           0.000000   \n",
       "75%      3356.940000    4201.790000           7.000000           0.000000   \n",
       "max    198926.110000  200148.110000      998650.377733      999171.809410   \n",
       "\n",
       "       last_rech_amt_ma  cnt_ma_rech30  ...    cnt_loans30   amnt_loans30  \\\n",
       "count     209593.000000  209593.000000  ...  209593.000000  209593.000000   \n",
       "mean        2064.452797       3.978057  ...       2.758981      17.952021   \n",
       "std         2370.786034       4.256090  ...       2.554502      17.379741   \n",
       "min            0.000000       0.000000  ...       0.000000       0.000000   \n",
       "25%          770.000000       1.000000  ...       1.000000       6.000000   \n",
       "50%         1539.000000       3.000000  ...       2.000000      12.000000   \n",
       "75%         2309.000000       5.000000  ...       4.000000      24.000000   \n",
       "max        55000.000000     203.000000  ...      50.000000     306.000000   \n",
       "\n",
       "       maxamnt_loans30  medianamnt_loans30    cnt_loans90   amnt_loans90  \\\n",
       "count    209593.000000       209593.000000  209593.000000  209593.000000   \n",
       "mean        274.658747            0.054029      18.520919      23.645398   \n",
       "std        4245.264648            0.218039     224.797423      26.469861   \n",
       "min           0.000000            0.000000       0.000000       0.000000   \n",
       "25%           6.000000            0.000000       1.000000       6.000000   \n",
       "50%           6.000000            0.000000       2.000000      12.000000   \n",
       "75%           6.000000            0.000000       5.000000      30.000000   \n",
       "max       99864.560864            3.000000    4997.517944     438.000000   \n",
       "\n",
       "       maxamnt_loans90  medianamnt_loans90      payback30      payback90  \n",
       "count    209593.000000       209593.000000  209593.000000  209593.000000  \n",
       "mean          6.703134            0.046077       3.398826       4.321485  \n",
       "std           2.103864            0.200692       8.813729      10.308108  \n",
       "min           0.000000            0.000000       0.000000       0.000000  \n",
       "25%           6.000000            0.000000       0.000000       0.000000  \n",
       "50%           6.000000            0.000000       0.000000       1.666667  \n",
       "75%           6.000000            0.000000       3.750000       4.500000  \n",
       "max          12.000000            3.000000     171.500000     171.500000  \n",
       "\n",
       "[8 rows x 33 columns]"
      ]
     },
     "execution_count": 6,
     "metadata": {},
     "output_type": "execute_result"
    }
   ],
   "source": [
    "#Check Stats\n",
    "df.describe()"
   ]
  },
  {
   "cell_type": "code",
   "execution_count": 7,
   "metadata": {},
   "outputs": [
    {
     "data": {
      "text/plain": [
       "1"
      ]
     },
     "execution_count": 7,
     "metadata": {},
     "output_type": "execute_result"
    }
   ],
   "source": [
    "#Check for duplicates\n",
    "sum(df.duplicated())"
   ]
  },
  {
   "cell_type": "code",
   "execution_count": 8,
   "metadata": {},
   "outputs": [],
   "source": [
    "#Drop Duplicates\n",
    "df=df.drop_duplicates()"
   ]
  },
  {
   "cell_type": "code",
   "execution_count": 9,
   "metadata": {},
   "outputs": [
    {
     "data": {
      "text/plain": [
       "Index(['msisdn', 'pcircle', 'pdate'], dtype='object')"
      ]
     },
     "execution_count": 9,
     "metadata": {},
     "output_type": "execute_result"
    }
   ],
   "source": [
    "#Check Object type columns\n",
    "df.select_dtypes('object').columns"
   ]
  },
  {
   "cell_type": "code",
   "execution_count": 10,
   "metadata": {},
   "outputs": [
    {
     "data": {
      "text/plain": [
       "186243"
      ]
     },
     "execution_count": 10,
     "metadata": {},
     "output_type": "execute_result"
    }
   ],
   "source": [
    "#First column of mobile number has many unqiue values and hence will be needed to drop\n",
    "df['msisdn'].nunique()"
   ]
  },
  {
   "cell_type": "code",
   "execution_count": 11,
   "metadata": {},
   "outputs": [
    {
     "data": {
      "text/plain": [
       "04581I85330    7\n",
       "47819I90840    7\n",
       "43430I70786    6\n",
       "30080I90588    6\n",
       "29191I82738    6\n",
       "              ..\n",
       "82343I90845    1\n",
       "06549I70377    1\n",
       "68814I90583    1\n",
       "96085I88680    1\n",
       "23669I70780    1\n",
       "Name: msisdn, Length: 186243, dtype: int64"
      ]
     },
     "execution_count": 11,
     "metadata": {},
     "output_type": "execute_result"
    }
   ],
   "source": [
    "df['msisdn'].value_counts()"
   ]
  },
  {
   "cell_type": "code",
   "execution_count": 12,
   "metadata": {},
   "outputs": [
    {
     "data": {
      "text/html": [
       "<div>\n",
       "<style scoped>\n",
       "    .dataframe tbody tr th:only-of-type {\n",
       "        vertical-align: middle;\n",
       "    }\n",
       "\n",
       "    .dataframe tbody tr th {\n",
       "        vertical-align: top;\n",
       "    }\n",
       "\n",
       "    .dataframe thead th {\n",
       "        text-align: right;\n",
       "    }\n",
       "</style>\n",
       "<table border=\"1\" class=\"dataframe\">\n",
       "  <thead>\n",
       "    <tr style=\"text-align: right;\">\n",
       "      <th></th>\n",
       "      <th>label</th>\n",
       "      <th>msisdn</th>\n",
       "      <th>aon</th>\n",
       "      <th>daily_decr30</th>\n",
       "      <th>daily_decr90</th>\n",
       "      <th>rental30</th>\n",
       "      <th>rental90</th>\n",
       "      <th>last_rech_date_ma</th>\n",
       "      <th>last_rech_date_da</th>\n",
       "      <th>last_rech_amt_ma</th>\n",
       "      <th>...</th>\n",
       "      <th>maxamnt_loans30</th>\n",
       "      <th>medianamnt_loans30</th>\n",
       "      <th>cnt_loans90</th>\n",
       "      <th>amnt_loans90</th>\n",
       "      <th>maxamnt_loans90</th>\n",
       "      <th>medianamnt_loans90</th>\n",
       "      <th>payback30</th>\n",
       "      <th>payback90</th>\n",
       "      <th>pcircle</th>\n",
       "      <th>pdate</th>\n",
       "    </tr>\n",
       "  </thead>\n",
       "  <tbody>\n",
       "    <tr>\n",
       "      <th>12750</th>\n",
       "      <td>1</td>\n",
       "      <td>47819I90840</td>\n",
       "      <td>893.0</td>\n",
       "      <td>21747.500000</td>\n",
       "      <td>29713.680000</td>\n",
       "      <td>23695.30</td>\n",
       "      <td>26643.16</td>\n",
       "      <td>1.0</td>\n",
       "      <td>0.0</td>\n",
       "      <td>770</td>\n",
       "      <td>...</td>\n",
       "      <td>6.0</td>\n",
       "      <td>0.0</td>\n",
       "      <td>48.0</td>\n",
       "      <td>288</td>\n",
       "      <td>6</td>\n",
       "      <td>0.0</td>\n",
       "      <td>2.687500</td>\n",
       "      <td>2.020833</td>\n",
       "      <td>UPW</td>\n",
       "      <td>2016-08-03</td>\n",
       "    </tr>\n",
       "    <tr>\n",
       "      <th>25011</th>\n",
       "      <td>1</td>\n",
       "      <td>47819I90840</td>\n",
       "      <td>900.0</td>\n",
       "      <td>21987.500000</td>\n",
       "      <td>32979.680000</td>\n",
       "      <td>15633.59</td>\n",
       "      <td>29215.30</td>\n",
       "      <td>1.0</td>\n",
       "      <td>0.0</td>\n",
       "      <td>770</td>\n",
       "      <td>...</td>\n",
       "      <td>6.0</td>\n",
       "      <td>0.0</td>\n",
       "      <td>50.0</td>\n",
       "      <td>300</td>\n",
       "      <td>6</td>\n",
       "      <td>0.0</td>\n",
       "      <td>2.833333</td>\n",
       "      <td>2.098039</td>\n",
       "      <td>UPW</td>\n",
       "      <td>2016-08-10</td>\n",
       "    </tr>\n",
       "    <tr>\n",
       "      <th>68194</th>\n",
       "      <td>1</td>\n",
       "      <td>47819I90840</td>\n",
       "      <td>841.0</td>\n",
       "      <td>2048.740667</td>\n",
       "      <td>2060.180000</td>\n",
       "      <td>1758.94</td>\n",
       "      <td>1816.16</td>\n",
       "      <td>1.0</td>\n",
       "      <td>0.0</td>\n",
       "      <td>770</td>\n",
       "      <td>...</td>\n",
       "      <td>6.0</td>\n",
       "      <td>0.0</td>\n",
       "      <td>27.0</td>\n",
       "      <td>162</td>\n",
       "      <td>6</td>\n",
       "      <td>0.0</td>\n",
       "      <td>1.680000</td>\n",
       "      <td>1.714286</td>\n",
       "      <td>UPW</td>\n",
       "      <td>2016-07-01</td>\n",
       "    </tr>\n",
       "    <tr>\n",
       "      <th>105946</th>\n",
       "      <td>1</td>\n",
       "      <td>47819I90840</td>\n",
       "      <td>813.0</td>\n",
       "      <td>194.468667</td>\n",
       "      <td>194.468667</td>\n",
       "      <td>972.74</td>\n",
       "      <td>972.74</td>\n",
       "      <td>2.0</td>\n",
       "      <td>0.0</td>\n",
       "      <td>770</td>\n",
       "      <td>...</td>\n",
       "      <td>6.0</td>\n",
       "      <td>0.0</td>\n",
       "      <td>13.0</td>\n",
       "      <td>78</td>\n",
       "      <td>6</td>\n",
       "      <td>0.0</td>\n",
       "      <td>2.000000</td>\n",
       "      <td>2.000000</td>\n",
       "      <td>UPW</td>\n",
       "      <td>2016-06-17</td>\n",
       "    </tr>\n",
       "    <tr>\n",
       "      <th>123964</th>\n",
       "      <td>1</td>\n",
       "      <td>47819I90840</td>\n",
       "      <td>879.0</td>\n",
       "      <td>20406.014667</td>\n",
       "      <td>20657.680000</td>\n",
       "      <td>21592.92</td>\n",
       "      <td>22851.76</td>\n",
       "      <td>1.0</td>\n",
       "      <td>0.0</td>\n",
       "      <td>770</td>\n",
       "      <td>...</td>\n",
       "      <td>6.0</td>\n",
       "      <td>0.0</td>\n",
       "      <td>38.0</td>\n",
       "      <td>228</td>\n",
       "      <td>6</td>\n",
       "      <td>0.0</td>\n",
       "      <td>1.952381</td>\n",
       "      <td>2.000000</td>\n",
       "      <td>UPW</td>\n",
       "      <td>2016-07-22</td>\n",
       "    </tr>\n",
       "    <tr>\n",
       "      <th>162172</th>\n",
       "      <td>1</td>\n",
       "      <td>47819I90840</td>\n",
       "      <td>881.0</td>\n",
       "      <td>21932.257333</td>\n",
       "      <td>22229.680000</td>\n",
       "      <td>23299.28</td>\n",
       "      <td>24787.00</td>\n",
       "      <td>1.0</td>\n",
       "      <td>0.0</td>\n",
       "      <td>773</td>\n",
       "      <td>...</td>\n",
       "      <td>6.0</td>\n",
       "      <td>0.0</td>\n",
       "      <td>39.0</td>\n",
       "      <td>234</td>\n",
       "      <td>6</td>\n",
       "      <td>0.0</td>\n",
       "      <td>2.210526</td>\n",
       "      <td>2.076923</td>\n",
       "      <td>UPW</td>\n",
       "      <td>2016-07-26</td>\n",
       "    </tr>\n",
       "    <tr>\n",
       "      <th>184447</th>\n",
       "      <td>1</td>\n",
       "      <td>47819I90840</td>\n",
       "      <td>889.0</td>\n",
       "      <td>25074.500000</td>\n",
       "      <td>27134.680000</td>\n",
       "      <td>23996.98</td>\n",
       "      <td>25813.14</td>\n",
       "      <td>2.0</td>\n",
       "      <td>0.0</td>\n",
       "      <td>770</td>\n",
       "      <td>...</td>\n",
       "      <td>6.0</td>\n",
       "      <td>0.0</td>\n",
       "      <td>45.0</td>\n",
       "      <td>270</td>\n",
       "      <td>6</td>\n",
       "      <td>0.0</td>\n",
       "      <td>2.470588</td>\n",
       "      <td>2.000000</td>\n",
       "      <td>UPW</td>\n",
       "      <td>2016-07-31</td>\n",
       "    </tr>\n",
       "  </tbody>\n",
       "</table>\n",
       "<p>7 rows × 36 columns</p>\n",
       "</div>"
      ],
      "text/plain": [
       "        label       msisdn    aon  daily_decr30  daily_decr90  rental30  \\\n",
       "12750       1  47819I90840  893.0  21747.500000  29713.680000  23695.30   \n",
       "25011       1  47819I90840  900.0  21987.500000  32979.680000  15633.59   \n",
       "68194       1  47819I90840  841.0   2048.740667   2060.180000   1758.94   \n",
       "105946      1  47819I90840  813.0    194.468667    194.468667    972.74   \n",
       "123964      1  47819I90840  879.0  20406.014667  20657.680000  21592.92   \n",
       "162172      1  47819I90840  881.0  21932.257333  22229.680000  23299.28   \n",
       "184447      1  47819I90840  889.0  25074.500000  27134.680000  23996.98   \n",
       "\n",
       "        rental90  last_rech_date_ma  last_rech_date_da  last_rech_amt_ma  ...  \\\n",
       "12750   26643.16                1.0                0.0               770  ...   \n",
       "25011   29215.30                1.0                0.0               770  ...   \n",
       "68194    1816.16                1.0                0.0               770  ...   \n",
       "105946    972.74                2.0                0.0               770  ...   \n",
       "123964  22851.76                1.0                0.0               770  ...   \n",
       "162172  24787.00                1.0                0.0               773  ...   \n",
       "184447  25813.14                2.0                0.0               770  ...   \n",
       "\n",
       "        maxamnt_loans30  medianamnt_loans30  cnt_loans90  amnt_loans90  \\\n",
       "12750               6.0                 0.0         48.0           288   \n",
       "25011               6.0                 0.0         50.0           300   \n",
       "68194               6.0                 0.0         27.0           162   \n",
       "105946              6.0                 0.0         13.0            78   \n",
       "123964              6.0                 0.0         38.0           228   \n",
       "162172              6.0                 0.0         39.0           234   \n",
       "184447              6.0                 0.0         45.0           270   \n",
       "\n",
       "        maxamnt_loans90  medianamnt_loans90  payback30  payback90  pcircle  \\\n",
       "12750                 6                 0.0   2.687500   2.020833      UPW   \n",
       "25011                 6                 0.0   2.833333   2.098039      UPW   \n",
       "68194                 6                 0.0   1.680000   1.714286      UPW   \n",
       "105946                6                 0.0   2.000000   2.000000      UPW   \n",
       "123964                6                 0.0   1.952381   2.000000      UPW   \n",
       "162172                6                 0.0   2.210526   2.076923      UPW   \n",
       "184447                6                 0.0   2.470588   2.000000      UPW   \n",
       "\n",
       "             pdate  \n",
       "12750   2016-08-03  \n",
       "25011   2016-08-10  \n",
       "68194   2016-07-01  \n",
       "105946  2016-06-17  \n",
       "123964  2016-07-22  \n",
       "162172  2016-07-26  \n",
       "184447  2016-07-31  \n",
       "\n",
       "[7 rows x 36 columns]"
      ]
     },
     "execution_count": 12,
     "metadata": {},
     "output_type": "execute_result"
    }
   ],
   "source": [
    "df.query('msisdn == \"47819I90840\"')"
   ]
  },
  {
   "cell_type": "code",
   "execution_count": 13,
   "metadata": {},
   "outputs": [],
   "source": [
    "#Drop msisdn column\n",
    "df=df.drop('msisdn',axis=1)"
   ]
  },
  {
   "cell_type": "code",
   "execution_count": 14,
   "metadata": {},
   "outputs": [
    {
     "data": {
      "text/plain": [
       "UPW    209592\n",
       "Name: pcircle, dtype: int64"
      ]
     },
     "execution_count": 14,
     "metadata": {},
     "output_type": "execute_result"
    }
   ],
   "source": [
    "#There is only one distinct value in pcircle and hence it won't help us in training the model\n",
    "#So we will drop the column\n",
    "df['pcircle'].value_counts()"
   ]
  },
  {
   "cell_type": "code",
   "execution_count": 15,
   "metadata": {},
   "outputs": [
    {
     "data": {
      "text/plain": [
       "1"
      ]
     },
     "execution_count": 15,
     "metadata": {},
     "output_type": "execute_result"
    }
   ],
   "source": [
    "df['pcircle'].nunique()"
   ]
  },
  {
   "cell_type": "code",
   "execution_count": 16,
   "metadata": {},
   "outputs": [],
   "source": [
    "#Drop pcircle\n",
    "df=df.drop('pcircle',axis=1)"
   ]
  },
  {
   "cell_type": "code",
   "execution_count": 17,
   "metadata": {},
   "outputs": [],
   "source": [
    "#Change dtype of pdate to datetime64\n",
    "df['pdate']=pd.to_datetime(df['pdate'])"
   ]
  },
  {
   "cell_type": "code",
   "execution_count": 18,
   "metadata": {},
   "outputs": [
    {
     "data": {
      "image/png": "[encoded data removed]",
      "text/plain": [
       "<Figure size 720x432 with 1 Axes>"
      ]
     },
     "metadata": {
      "needs_background": "light"
     },
     "output_type": "display_data"
    }
   ],
   "source": [
    "#Check count of Label\n",
    "plt.figure(figsize=(10,6))\n",
    "sns.countplot(df['label'],palette='Set2')\n",
    "plt.ylim(0,200000)\n",
    "plt.savefig('Images//1.Unsampled_Label.jpeg',dpi=300)\n",
    "plt.show()\n",
    "#As we can see the label is highly imbalanced"
   ]
  },
  {
   "cell_type": "code",
   "execution_count": 19,
   "metadata": {},
   "outputs": [
    {
     "data": {
      "text/plain": [
       "1    183430\n",
       "0     26162\n",
       "Name: label, dtype: int64"
      ]
     },
     "execution_count": 19,
     "metadata": {},
     "output_type": "execute_result"
    }
   ],
   "source": [
    "df['label'].value_counts()"
   ]
  },
  {
   "cell_type": "code",
   "execution_count": 20,
   "metadata": {},
   "outputs": [
    {
     "data": {
      "image/png": "[encoded data removed]",
      "text/plain": [
       "<Figure size 720x432 with 2 Axes>"
      ]
     },
     "metadata": {
      "needs_background": "light"
     },
     "output_type": "display_data"
    }
   ],
   "source": [
    "#Plot heatmap to check correlation\n",
    "plt.figure(figsize=(10,6))\n",
    "sns.heatmap(df.corr(),cmap='viridis')\n",
    "plt.savefig('Images//2.Correlation_Heatmap.jpeg',dpi=300)\n",
    "plt.show()"
   ]
  },
  {
   "cell_type": "code",
   "execution_count": 21,
   "metadata": {},
   "outputs": [
    {
     "data": {
      "image/png": "[encoded data removed]",
      "text/plain": [
       "<Figure size 720x432 with 1 Axes>"
      ]
     },
     "metadata": {
      "needs_background": "light"
     },
     "output_type": "display_data"
    }
   ],
   "source": [
    "#Plot barplot to check correlation\n",
    "plt.figure(figsize=(10,6))\n",
    "df.corr()['label'].drop('label').sort_values().plot(kind='bar')\n",
    "plt.savefig('Images//3.Correlation_Barplot.jpeg',dpi=300)\n",
    "plt.show()"
   ]
  },
  {
   "cell_type": "code",
   "execution_count": 22,
   "metadata": {},
   "outputs": [
    {
     "data": {
      "image/png": "[encoded data removed]",
      "text/plain": [
       "<Figure size 720x432 with 1 Axes>"
      ]
     },
     "metadata": {
      "needs_background": "light"
     },
     "output_type": "display_data"
    }
   ],
   "source": [
    "#Plot boxplot to check relation\n",
    "plt.figure(figsize=(10,6))\n",
    "sns.boxplot(x='label',y='cnt_ma_rech30',data=df,palette='viridis')\n",
    "plt.ylim(0,20)\n",
    "plt.savefig('Images//4.Box_Plot.jpeg',dpi=300)\n",
    "plt.show()"
   ]
  },
  {
   "cell_type": "code",
   "execution_count": 23,
   "metadata": {},
   "outputs": [
    {
     "data": {
      "text/plain": [
       "2016-07-04    3150\n",
       "2016-07-05    3127\n",
       "2016-07-07    3116\n",
       "2016-06-20    3099\n",
       "2016-06-17    3082\n",
       "              ... \n",
       "2016-06-04    1559\n",
       "2016-08-18    1407\n",
       "2016-08-19    1132\n",
       "2016-08-20     788\n",
       "2016-08-21     324\n",
       "Name: pdate, Length: 82, dtype: int64"
      ]
     },
     "execution_count": 23,
     "metadata": {},
     "output_type": "execute_result"
    }
   ],
   "source": [
    "#Check value counts of pdate\n",
    "df['pdate'].value_counts()"
   ]
  },
  {
   "cell_type": "code",
   "execution_count": 24,
   "metadata": {},
   "outputs": [],
   "source": [
    "#Extract new column of month\n",
    "df['pmonth']=df['pdate'].dt.month"
   ]
  },
  {
   "cell_type": "code",
   "execution_count": 25,
   "metadata": {},
   "outputs": [
    {
     "data": {
      "text/plain": [
       "1"
      ]
     },
     "execution_count": 25,
     "metadata": {},
     "output_type": "execute_result"
    }
   ],
   "source": [
    "#No need to extract year as there is only one distinct value\n",
    "df['pdate'].dt.year.nunique()"
   ]
  },
  {
   "cell_type": "code",
   "execution_count": 26,
   "metadata": {},
   "outputs": [],
   "source": [
    "#Drop pdate column\n",
    "df=df.drop(['pdate'],axis=1)"
   ]
  },
  {
   "cell_type": "code",
   "execution_count": 27,
   "metadata": {},
   "outputs": [],
   "source": [
    "#Check Skewness and Detect Outlier\n",
    "q1=df.quantile(q=0.25)\n",
    "q3=df.quantile(q=0.75)"
   ]
  },
  {
   "cell_type": "code",
   "execution_count": 28,
   "metadata": {},
   "outputs": [],
   "source": [
    "#Create IQR Range\n",
    "IQR=q3-q1\n",
    "lower_bound = q1 - 1.5*IQR\n",
    "higer_bound = q3 + 1.5*IQR"
   ]
  },
  {
   "cell_type": "code",
   "execution_count": 29,
   "metadata": {},
   "outputs": [],
   "source": [
    "#Create function for Outlier Detection\n",
    "def remove_outlier(df,col,inp):\n",
    "    if inp==False:\n",
    "        df_copy=df.copy()\n",
    "        raw=df_copy[col].shape[0]\n",
    "        df_copy=df_copy[(df_copy[col]>=lower_bound[col]) & (df_copy[col]<=higer_bound[col])]\n",
    "        prcsd=df_copy[col].shape[0]\n",
    "        \n",
    "        percent_change=(((raw-prcsd)/raw)*100)\n",
    "        outliers=raw-prcsd\n",
    "        \n",
    "        print(\"{} outliers are detected for column {} with percent change being {}\".format(outliers,col,percent_change))\n",
    "    elif inp==True:\n",
    "        raw=df[col].shape[0]\n",
    "        df=df[(df[col]>=lower_bound[col]) & (df[col]<=higer_bound[col])]\n",
    "        prcsd=df[col].shape[0]\n",
    "        \n",
    "        percent_change=(((raw-prcsd)/raw)*100)\n",
    "        outliers=raw-prcsd\n",
    "        \n",
    "        print(\"{} outliers are detected for column {} with percent change being {}\".format(outliers,col,percent_change))"
   ]
  },
  {
   "cell_type": "code",
   "execution_count": 30,
   "metadata": {},
   "outputs": [
    {
     "name": "stdout",
     "output_type": "stream",
     "text": [
      "26162 outliers are detected for column label with percent change being 12.48234665445246\n",
      "3607 outliers are detected for column aon with percent change being 1.720962632161533\n",
      "16350 outliers are detected for column daily_decr30 with percent change being 7.80087026222375\n",
      "18187 outliers are detected for column daily_decr90 with percent change being 8.677335012786749\n",
      "18526 outliers are detected for column rental30 with percent change being 8.839077827397993\n",
      "19399 outliers are detected for column rental90 with percent change being 9.25560135883049\n",
      "20145 outliers are detected for column last_rech_date_ma with percent change being 9.611530974464674\n",
      "6732 outliers are detected for column last_rech_date_da with percent change being 3.2119546547578155\n",
      "20864 outliers are detected for column last_rech_amt_ma with percent change being 9.954578419023626\n",
      "11294 outliers are detected for column cnt_ma_rech30 with percent change being 5.388564449024772\n",
      "11450 outliers are detected for column fr_ma_rech30 with percent change being 5.462994770792778\n",
      "13219 outliers are detected for column sumamnt_ma_rech30 with percent change being 6.307015534944081\n",
      "24928 outliers are detected for column medianamnt_ma_rech30 with percent change being 11.89358372456964\n",
      "27252 outliers are detected for column medianmarechprebal30 with percent change being 13.002404671934043\n",
      "14155 outliers are detected for column cnt_ma_rech90 with percent change being 6.7535974655521205\n",
      "26845 outliers are detected for column fr_ma_rech90 with percent change being 12.808217870911104\n",
      "13954 outliers are detected for column sumamnt_ma_rech90 with percent change being 6.657696858658728\n",
      "25457 outliers are detected for column medianamnt_ma_rech90 with percent change being 12.14597885415474\n",
      "25933 outliers are detected for column medianmarechprebal90 with percent change being 12.373086759036605\n",
      "4114 outliers are detected for column cnt_da_rech30 with percent change being 1.9628611779075538\n",
      "1579 outliers are detected for column fr_da_rech30 with percent change being 0.7533684491774495\n",
      "5367 outliers are detected for column cnt_da_rech90 with percent change being 2.560689339287759\n",
      "865 outliers are detected for column fr_da_rech90 with percent change being 0.412706591854651\n",
      "7817 outliers are detected for column cnt_loans30 with percent change being 3.7296270850032447\n",
      "10416 outliers are detected for column amnt_loans30 with percent change being 4.96965533035612\n",
      "30400 outliers are detected for column maxamnt_loans30 with percent change being 14.504370395816634\n",
      "14148 outliers are detected for column medianamnt_loans30 with percent change being 6.750257643421505\n",
      "11523 outliers are detected for column cnt_loans90 with percent change being 5.497824344440627\n",
      "12590 outliers are detected for column amnt_loans90 with percent change being 6.006908660635902\n",
      "28648 outliers are detected for column maxamnt_loans90 with percent change being 13.668460628268257\n",
      "12169 outliers are detected for column medianamnt_loans90 with percent change being 5.806042215351731\n",
      "16531 outliers are detected for column payback30 with percent change being 7.887228520172526\n",
      "17849 outliers are detected for column payback90 with percent change being 8.516069315622733\n",
      "0 outliers are detected for column pmonth with percent change being 0.0\n"
     ]
    }
   ],
   "source": [
    "#Run Function for each column\n",
    "for x in df.columns:\n",
    "    remove_outlier(df,str(x),False)"
   ]
  },
  {
   "cell_type": "code",
   "execution_count": 31,
   "metadata": {},
   "outputs": [],
   "source": [
    "#Since we cannot lose more than 7-8% of the data we will not drop any of these columns\n",
    "#Also since there are median values from different customers regarding recharge amount it can definitely be \n",
    "#different and they would not be considered as anomalies"
   ]
  },
  {
   "cell_type": "code",
   "execution_count": 32,
   "metadata": {},
   "outputs": [],
   "source": [
    "pt=PowerTransformer()\n",
    "for x in df.columns.drop('label'):\n",
    "    if abs(df.loc[:,x].skew())>0.55:\n",
    "        df.loc[:,x]=pt.fit_transform(df.loc[:,x].values.reshape(-1,1))"
   ]
  },
  {
   "cell_type": "code",
   "execution_count": 33,
   "metadata": {},
   "outputs": [
    {
     "data": {
      "text/plain": [
       "label                    -2.270245\n",
       "aon                       1.654515\n",
       "daily_decr30             -6.582798\n",
       "daily_decr90             -7.080271\n",
       "rental30                 -1.022864\n",
       "rental90                 -0.962734\n",
       "last_rech_date_ma        -5.362508\n",
       "last_rech_date_da      -106.606388\n",
       "last_rech_amt_ma         -0.061265\n",
       "cnt_ma_rech30            -0.000144\n",
       "fr_ma_rech30              0.165014\n",
       "sumamnt_ma_rech30        -0.291322\n",
       "medianamnt_ma_rech30     -0.189630\n",
       "medianmarechprebal30     -0.119068\n",
       "cnt_ma_rech90            -0.002465\n",
       "fr_ma_rech90              0.142950\n",
       "sumamnt_ma_rech90        -0.192160\n",
       "medianamnt_ma_rech90     -0.044606\n",
       "medianmarechprebal90      7.506249\n",
       "cnt_da_rech30             6.925803\n",
       "fr_da_rech30             11.390638\n",
       "cnt_da_rech90             6.006561\n",
       "fr_da_rech90             15.469663\n",
       "cnt_loans30               0.036243\n",
       "amnt_loans30              0.001947\n",
       "maxamnt_loans30          -1.680102\n",
       "medianamnt_loans30        3.447725\n",
       "cnt_loans90               0.105583\n",
       "amnt_loans90             -0.008989\n",
       "maxamnt_loans90           0.364281\n",
       "medianamnt_loans90        3.779587\n",
       "payback30                 0.298562\n",
       "payback90                 0.210885\n",
       "pmonth                    0.343245\n",
       "dtype: float64"
      ]
     },
     "execution_count": 33,
     "metadata": {},
     "output_type": "execute_result"
    }
   ],
   "source": [
    "df.skew()"
   ]
  },
  {
   "cell_type": "code",
   "execution_count": 34,
   "metadata": {},
   "outputs": [],
   "source": [
    "#Resample the data as it is highly imbalanced\n",
    "df_minority=df[df['label']==0]\n",
    "df_majority=df[df['label']==1]\n",
    "\n",
    "df_minority_upsampled=resample(df_minority,replace=True,n_samples=50000,random_state=101)\n",
    "\n",
    "df_upsampled=pd.concat([df_majority,df_minority_upsampled],axis=0)"
   ]
  },
  {
   "cell_type": "code",
   "execution_count": 35,
   "metadata": {},
   "outputs": [],
   "source": [
    "df_minority=df_upsampled[df_upsampled['label']==0]\n",
    "df_majority=df_upsampled[df_upsampled['label']==1]\n",
    "\n",
    "df_majority_downsampled=resample(df_majority,replace=False,n_samples=150000,random_state=101)\n",
    "\n",
    "df_downsampled=pd.concat([df_minority,df_majority_downsampled],axis=0)"
   ]
  },
  {
   "cell_type": "code",
   "execution_count": 36,
   "metadata": {},
   "outputs": [],
   "source": [
    "#As the data is expensive we cannot afford to loose more than 7-8% of data so we cannot directly downsample data to make the class balanced\n",
    "#Also, we cannot upsample the data from 25000 to 150000 as it would lead to many redundant data\n",
    "#Hence we have only downsampled 3-4% of data and we have upsampled that downsampled data."
   ]
  },
  {
   "cell_type": "code",
   "execution_count": 37,
   "metadata": {},
   "outputs": [
    {
     "data": {
      "text/plain": [
       "1    150000\n",
       "0     50000\n",
       "Name: label, dtype: int64"
      ]
     },
     "execution_count": 37,
     "metadata": {},
     "output_type": "execute_result"
    }
   ],
   "source": [
    "#Check resmapled data\n",
    "df_downsampled['label'].value_counts()"
   ]
  },
  {
   "cell_type": "code",
   "execution_count": 38,
   "metadata": {},
   "outputs": [
    {
     "data": {
      "image/png": "[encoded data removed]",
      "text/plain": [
       "<Figure size 720x432 with 1 Axes>"
      ]
     },
     "metadata": {
      "needs_background": "light"
     },
     "output_type": "display_data"
    }
   ],
   "source": [
    "#Check count of Label\n",
    "plt.figure(figsize=(10,6))\n",
    "sns.countplot(df_downsampled['label'],palette='Set2')\n",
    "plt.ylim(0,200000)\n",
    "plt.savefig('Images//5.Sampled_Data.jpeg',dpi=300)\n",
    "plt.show()\n",
    "#As we can see now the data is enough balanced to train a model"
   ]
  },
  {
   "cell_type": "code",
   "execution_count": 39,
   "metadata": {},
   "outputs": [],
   "source": [
    "vif_df=pd.DataFrame()\n",
    "vif_df['Features']=df_downsampled.columns\n",
    "vif_df['VIF']=[variance_inflation_factor(df_downsampled.values,x) for x in range(len(df_downsampled.columns))]"
   ]
  },
  {
   "cell_type": "code",
   "execution_count": 40,
   "metadata": {},
   "outputs": [
    {
     "data": {
      "text/html": [
       "<div>\n",
       "<style scoped>\n",
       "    .dataframe tbody tr th:only-of-type {\n",
       "        vertical-align: middle;\n",
       "    }\n",
       "\n",
       "    .dataframe tbody tr th {\n",
       "        vertical-align: top;\n",
       "    }\n",
       "\n",
       "    .dataframe thead th {\n",
       "        text-align: right;\n",
       "    }\n",
       "</style>\n",
       "<table border=\"1\" class=\"dataframe\">\n",
       "  <thead>\n",
       "    <tr style=\"text-align: right;\">\n",
       "      <th></th>\n",
       "      <th>Features</th>\n",
       "      <th>VIF</th>\n",
       "    </tr>\n",
       "  </thead>\n",
       "  <tbody>\n",
       "    <tr>\n",
       "      <th>1</th>\n",
       "      <td>aon</td>\n",
       "      <td>1.009506</td>\n",
       "    </tr>\n",
       "    <tr>\n",
       "      <th>6</th>\n",
       "      <td>last_rech_date_ma</td>\n",
       "      <td>1.013524</td>\n",
       "    </tr>\n",
       "    <tr>\n",
       "      <th>7</th>\n",
       "      <td>last_rech_date_da</td>\n",
       "      <td>1.045687</td>\n",
       "    </tr>\n",
       "    <tr>\n",
       "      <th>20</th>\n",
       "      <td>fr_da_rech30</td>\n",
       "      <td>1.226637</td>\n",
       "    </tr>\n",
       "    <tr>\n",
       "      <th>13</th>\n",
       "      <td>medianmarechprebal30</td>\n",
       "      <td>1.270266</td>\n",
       "    </tr>\n",
       "    <tr>\n",
       "      <th>18</th>\n",
       "      <td>medianmarechprebal90</td>\n",
       "      <td>1.357918</td>\n",
       "    </tr>\n",
       "    <tr>\n",
       "      <th>22</th>\n",
       "      <td>fr_da_rech90</td>\n",
       "      <td>1.493380</td>\n",
       "    </tr>\n",
       "    <tr>\n",
       "      <th>19</th>\n",
       "      <td>cnt_da_rech30</td>\n",
       "      <td>1.878305</td>\n",
       "    </tr>\n",
       "    <tr>\n",
       "      <th>21</th>\n",
       "      <td>cnt_da_rech90</td>\n",
       "      <td>1.900896</td>\n",
       "    </tr>\n",
       "    <tr>\n",
       "      <th>15</th>\n",
       "      <td>fr_ma_rech90</td>\n",
       "      <td>1.990988</td>\n",
       "    </tr>\n",
       "    <tr>\n",
       "      <th>10</th>\n",
       "      <td>fr_ma_rech30</td>\n",
       "      <td>2.141170</td>\n",
       "    </tr>\n",
       "    <tr>\n",
       "      <th>25</th>\n",
       "      <td>maxamnt_loans30</td>\n",
       "      <td>2.145218</td>\n",
       "    </tr>\n",
       "    <tr>\n",
       "      <th>26</th>\n",
       "      <td>medianamnt_loans30</td>\n",
       "      <td>4.802420</td>\n",
       "    </tr>\n",
       "    <tr>\n",
       "      <th>30</th>\n",
       "      <td>medianamnt_loans90</td>\n",
       "      <td>4.804091</td>\n",
       "    </tr>\n",
       "    <tr>\n",
       "      <th>29</th>\n",
       "      <td>maxamnt_loans90</td>\n",
       "      <td>5.220741</td>\n",
       "    </tr>\n",
       "    <tr>\n",
       "      <th>0</th>\n",
       "      <td>label</td>\n",
       "      <td>5.405731</td>\n",
       "    </tr>\n",
       "    <tr>\n",
       "      <th>33</th>\n",
       "      <td>pmonth</td>\n",
       "      <td>5.419130</td>\n",
       "    </tr>\n",
       "    <tr>\n",
       "      <th>32</th>\n",
       "      <td>payback90</td>\n",
       "      <td>5.627894</td>\n",
       "    </tr>\n",
       "    <tr>\n",
       "      <th>31</th>\n",
       "      <td>payback30</td>\n",
       "      <td>6.056242</td>\n",
       "    </tr>\n",
       "    <tr>\n",
       "      <th>8</th>\n",
       "      <td>last_rech_amt_ma</td>\n",
       "      <td>7.482237</td>\n",
       "    </tr>\n",
       "    <tr>\n",
       "      <th>4</th>\n",
       "      <td>rental30</td>\n",
       "      <td>16.065766</td>\n",
       "    </tr>\n",
       "    <tr>\n",
       "      <th>5</th>\n",
       "      <td>rental90</td>\n",
       "      <td>17.035444</td>\n",
       "    </tr>\n",
       "    <tr>\n",
       "      <th>27</th>\n",
       "      <td>cnt_loans90</td>\n",
       "      <td>19.542904</td>\n",
       "    </tr>\n",
       "    <tr>\n",
       "      <th>12</th>\n",
       "      <td>medianamnt_ma_rech30</td>\n",
       "      <td>21.265528</td>\n",
       "    </tr>\n",
       "    <tr>\n",
       "      <th>17</th>\n",
       "      <td>medianamnt_ma_rech90</td>\n",
       "      <td>21.414827</td>\n",
       "    </tr>\n",
       "    <tr>\n",
       "      <th>28</th>\n",
       "      <td>amnt_loans90</td>\n",
       "      <td>32.580727</td>\n",
       "    </tr>\n",
       "    <tr>\n",
       "      <th>9</th>\n",
       "      <td>cnt_ma_rech30</td>\n",
       "      <td>62.894103</td>\n",
       "    </tr>\n",
       "    <tr>\n",
       "      <th>14</th>\n",
       "      <td>cnt_ma_rech90</td>\n",
       "      <td>67.958077</td>\n",
       "    </tr>\n",
       "    <tr>\n",
       "      <th>23</th>\n",
       "      <td>cnt_loans30</td>\n",
       "      <td>88.139518</td>\n",
       "    </tr>\n",
       "    <tr>\n",
       "      <th>24</th>\n",
       "      <td>amnt_loans30</td>\n",
       "      <td>89.234335</td>\n",
       "    </tr>\n",
       "    <tr>\n",
       "      <th>16</th>\n",
       "      <td>sumamnt_ma_rech90</td>\n",
       "      <td>99.257025</td>\n",
       "    </tr>\n",
       "    <tr>\n",
       "      <th>11</th>\n",
       "      <td>sumamnt_ma_rech30</td>\n",
       "      <td>105.574533</td>\n",
       "    </tr>\n",
       "    <tr>\n",
       "      <th>2</th>\n",
       "      <td>daily_decr30</td>\n",
       "      <td>255.567205</td>\n",
       "    </tr>\n",
       "    <tr>\n",
       "      <th>3</th>\n",
       "      <td>daily_decr90</td>\n",
       "      <td>265.457900</td>\n",
       "    </tr>\n",
       "  </tbody>\n",
       "</table>\n",
       "</div>"
      ],
      "text/plain": [
       "                Features         VIF\n",
       "1                    aon    1.009506\n",
       "6      last_rech_date_ma    1.013524\n",
       "7      last_rech_date_da    1.045687\n",
       "20          fr_da_rech30    1.226637\n",
       "13  medianmarechprebal30    1.270266\n",
       "18  medianmarechprebal90    1.357918\n",
       "22          fr_da_rech90    1.493380\n",
       "19         cnt_da_rech30    1.878305\n",
       "21         cnt_da_rech90    1.900896\n",
       "15          fr_ma_rech90    1.990988\n",
       "10          fr_ma_rech30    2.141170\n",
       "25       maxamnt_loans30    2.145218\n",
       "26    medianamnt_loans30    4.802420\n",
       "30    medianamnt_loans90    4.804091\n",
       "29       maxamnt_loans90    5.220741\n",
       "0                  label    5.405731\n",
       "33                pmonth    5.419130\n",
       "32             payback90    5.627894\n",
       "31             payback30    6.056242\n",
       "8       last_rech_amt_ma    7.482237\n",
       "4               rental30   16.065766\n",
       "5               rental90   17.035444\n",
       "27           cnt_loans90   19.542904\n",
       "12  medianamnt_ma_rech30   21.265528\n",
       "17  medianamnt_ma_rech90   21.414827\n",
       "28          amnt_loans90   32.580727\n",
       "9          cnt_ma_rech30   62.894103\n",
       "14         cnt_ma_rech90   67.958077\n",
       "23           cnt_loans30   88.139518\n",
       "24          amnt_loans30   89.234335\n",
       "16     sumamnt_ma_rech90   99.257025\n",
       "11     sumamnt_ma_rech30  105.574533\n",
       "2           daily_decr30  255.567205\n",
       "3           daily_decr90  265.457900"
      ]
     },
     "execution_count": 40,
     "metadata": {},
     "output_type": "execute_result"
    }
   ],
   "source": [
    "vif_df.sort_values(by='VIF')"
   ]
  },
  {
   "cell_type": "code",
   "execution_count": 41,
   "metadata": {},
   "outputs": [],
   "source": [
    "df_downsampled_copy=df_downsampled.copy()"
   ]
  },
  {
   "cell_type": "code",
   "execution_count": 42,
   "metadata": {},
   "outputs": [],
   "source": [
    "df_downsampled_copy=df_downsampled_copy.drop(['medianamnt_loans30','medianamnt_ma_rech90','amnt_loans90','sumamnt_ma_rech30','sumamnt_ma_rech90',\n",
    "                         'cnt_ma_rech90','daily_decr90','amnt_loans30'],axis=1)"
   ]
  },
  {
   "cell_type": "code",
   "execution_count": 43,
   "metadata": {},
   "outputs": [
    {
     "data": {
      "text/plain": [
       "(200000, 26)"
      ]
     },
     "execution_count": 43,
     "metadata": {},
     "output_type": "execute_result"
    }
   ],
   "source": [
    "df_downsampled_copy.shape"
   ]
  },
  {
   "cell_type": "code",
   "execution_count": 44,
   "metadata": {},
   "outputs": [],
   "source": [
    "#Scale data\n",
    "scale=MinMaxScaler()\n",
    "X=df_downsampled_copy.drop('label',axis=1)\n",
    "y=df_downsampled_copy['label']"
   ]
  },
  {
   "cell_type": "code",
   "execution_count": 45,
   "metadata": {},
   "outputs": [],
   "source": [
    "X=scale.fit_transform(X)"
   ]
  },
  {
   "cell_type": "code",
   "execution_count": 46,
   "metadata": {},
   "outputs": [],
   "source": [
    "# #Remove Features with variance less than 0.001\n",
    "# select=VarianceThreshold(threshold=0.001)\n",
    "# X=select.fit_transform(X)"
   ]
  },
  {
   "cell_type": "code",
   "execution_count": 47,
   "metadata": {},
   "outputs": [],
   "source": [
    "#Split data\n",
    "X_train, X_test, y_train, y_test = train_test_split(X, y, test_size=0.3, random_state=101)"
   ]
  },
  {
   "cell_type": "code",
   "execution_count": 48,
   "metadata": {},
   "outputs": [],
   "source": [
    "#Create Function which will evaluate model's performance\n",
    "model_list=[]\n",
    "score_list=[]\n",
    "def model_sel(mod):\n",
    "    model=mod\n",
    "    model.fit(X_train,y_train)\n",
    "    predict=model.predict(X_test)\n",
    "    f1score=f1_score(y_test,predict)\n",
    "    model_list.append(str(mod))\n",
    "    score_list.append(round(f1score,3))\n",
    "    print(\"****************** Metrics *********************\")\n",
    "    print()\n",
    "    print(\"Accuracy of the model is {}\".format(accuracy_score(y_test,predict)))\n",
    "    print(\"Recall of the model is {}\".format(recall_score(y_test,predict)))\n",
    "    print(\"Precision of the model is {}\".format(precision_score(y_test,predict)))\n",
    "    print(\"F1 score of the model is {}\".format(f1score))\n",
    "    print()\n",
    "    print(\"************** Confusion Matrix ****************\")\n",
    "    print()\n",
    "    print(confusion_matrix(y_test,predict))\n",
    "    print()\n",
    "    print(\"*********** Classification Report **************\")\n",
    "    print()\n",
    "    print(classification_report(y_test,predict))"
   ]
  },
  {
   "cell_type": "code",
   "execution_count": 49,
   "metadata": {},
   "outputs": [
    {
     "name": "stdout",
     "output_type": "stream",
     "text": [
      "****************** Metrics *********************\n",
      "\n",
      "Accuracy of the model is 0.8\n",
      "Recall of the model is 0.9211831424441232\n",
      "Precision of the model is 0.8304629388295206\n",
      "F1 score of the model is 0.8734737774403746\n",
      "\n",
      "************** Confusion Matrix ****************\n",
      "\n",
      "[[ 6579  8456]\n",
      " [ 3544 41421]]\n",
      "\n",
      "*********** Classification Report **************\n",
      "\n",
      "              precision    recall  f1-score   support\n",
      "\n",
      "           0       0.65      0.44      0.52     15035\n",
      "           1       0.83      0.92      0.87     44965\n",
      "\n",
      "    accuracy                           0.80     60000\n",
      "   macro avg       0.74      0.68      0.70     60000\n",
      "weighted avg       0.79      0.80      0.79     60000\n",
      "\n"
     ]
    }
   ],
   "source": [
    "#Run model for Logistic Regression\n",
    "model_sel(LogisticRegression(max_iter=30000))"
   ]
  },
  {
   "cell_type": "code",
   "execution_count": 50,
   "metadata": {},
   "outputs": [
    {
     "name": "stdout",
     "output_type": "stream",
     "text": [
      "****************** Metrics *********************\n",
      "\n",
      "Accuracy of the model is 0.9448166666666666\n",
      "Recall of the model is 0.9653285889024797\n",
      "Precision of the model is 0.9612028876389566\n",
      "F1 score of the model is 0.9632613206395704\n",
      "\n",
      "************** Confusion Matrix ****************\n",
      "\n",
      "[[13283  1752]\n",
      " [ 1559 43406]]\n",
      "\n",
      "*********** Classification Report **************\n",
      "\n",
      "              precision    recall  f1-score   support\n",
      "\n",
      "           0       0.89      0.88      0.89     15035\n",
      "           1       0.96      0.97      0.96     44965\n",
      "\n",
      "    accuracy                           0.94     60000\n",
      "   macro avg       0.93      0.92      0.93     60000\n",
      "weighted avg       0.94      0.94      0.94     60000\n",
      "\n"
     ]
    }
   ],
   "source": [
    "#Run Model for RandomForestClassifier\n",
    "model_sel(RandomForestClassifier())"
   ]
  },
  {
   "cell_type": "code",
   "execution_count": 51,
   "metadata": {},
   "outputs": [
    {
     "name": "stdout",
     "output_type": "stream",
     "text": [
      "****************** Metrics *********************\n",
      "\n",
      "Accuracy of the model is 0.8532833333333333\n",
      "Recall of the model is 0.9429556321583453\n",
      "Precision of the model is 0.8717463711501295\n",
      "F1 score of the model is 0.9059538689999251\n",
      "\n",
      "************** Confusion Matrix ****************\n",
      "\n",
      "[[ 8797  6238]\n",
      " [ 2565 42400]]\n",
      "\n",
      "*********** Classification Report **************\n",
      "\n",
      "              precision    recall  f1-score   support\n",
      "\n",
      "           0       0.77      0.59      0.67     15035\n",
      "           1       0.87      0.94      0.91     44965\n",
      "\n",
      "    accuracy                           0.85     60000\n",
      "   macro avg       0.82      0.76      0.79     60000\n",
      "weighted avg       0.85      0.85      0.85     60000\n",
      "\n"
     ]
    }
   ],
   "source": [
    "#Run Model for AdaBoostClassifier\n",
    "model_sel(AdaBoostClassifier())"
   ]
  },
  {
   "cell_type": "code",
   "execution_count": 52,
   "metadata": {},
   "outputs": [
    {
     "name": "stdout",
     "output_type": "stream",
     "text": [
      "****************** Metrics *********************\n",
      "\n",
      "Accuracy of the model is 0.8219166666666666\n",
      "Recall of the model is 0.9230957411319916\n",
      "Precision of the model is 0.8517051750318053\n",
      "F1 score of the model is 0.8859646314261626\n",
      "\n",
      "************** Confusion Matrix ****************\n",
      "\n",
      "[[ 7808  7227]\n",
      " [ 3458 41507]]\n",
      "\n",
      "*********** Classification Report **************\n",
      "\n",
      "              precision    recall  f1-score   support\n",
      "\n",
      "           0       0.69      0.52      0.59     15035\n",
      "           1       0.85      0.92      0.89     44965\n",
      "\n",
      "    accuracy                           0.82     60000\n",
      "   macro avg       0.77      0.72      0.74     60000\n",
      "weighted avg       0.81      0.82      0.81     60000\n",
      "\n"
     ]
    }
   ],
   "source": [
    "#Run Model for Support Vector Machines\n",
    "model_sel(SVC())"
   ]
  },
  {
   "cell_type": "code",
   "execution_count": 53,
   "metadata": {},
   "outputs": [
    {
     "name": "stdout",
     "output_type": "stream",
     "text": [
      "****************** Metrics *********************\n",
      "\n",
      "Accuracy of the model is 0.8485\n",
      "Recall of the model is 0.8952963415990215\n",
      "Precision of the model is 0.9018347185196801\n",
      "F1 score of the model is 0.8985536359983929\n",
      "\n",
      "************** Confusion Matrix ****************\n",
      "\n",
      "[[10653  4382]\n",
      " [ 4708 40257]]\n",
      "\n",
      "*********** Classification Report **************\n",
      "\n",
      "              precision    recall  f1-score   support\n",
      "\n",
      "           0       0.69      0.71      0.70     15035\n",
      "           1       0.90      0.90      0.90     44965\n",
      "\n",
      "    accuracy                           0.85     60000\n",
      "   macro avg       0.80      0.80      0.80     60000\n",
      "weighted avg       0.85      0.85      0.85     60000\n",
      "\n"
     ]
    }
   ],
   "source": [
    "#Run Model for KNeighbors\n",
    "model_sel(KNeighborsClassifier())"
   ]
  },
  {
   "cell_type": "code",
   "execution_count": 54,
   "metadata": {},
   "outputs": [
    {
     "name": "stdout",
     "output_type": "stream",
     "text": [
      "****************** Metrics *********************\n",
      "\n",
      "Accuracy of the model is 0.9425166666666667\n",
      "Recall of the model is 0.9619037028800178\n",
      "Precision of the model is 0.9614119320707745\n",
      "F1 score of the model is 0.9616577546051827\n",
      "\n",
      "************** Confusion Matrix ****************\n",
      "\n",
      "[[13299  1736]\n",
      " [ 1713 43252]]\n",
      "\n",
      "*********** Classification Report **************\n",
      "\n",
      "              precision    recall  f1-score   support\n",
      "\n",
      "           0       0.89      0.88      0.89     15035\n",
      "           1       0.96      0.96      0.96     44965\n",
      "\n",
      "    accuracy                           0.94     60000\n",
      "   macro avg       0.92      0.92      0.92     60000\n",
      "weighted avg       0.94      0.94      0.94     60000\n",
      "\n"
     ]
    }
   ],
   "source": [
    "#Create XGboost Dataset\n",
    "D_train = xgb.DMatrix(X_train, label=y_train)\n",
    "D_test = xgb.DMatrix(X_test, label=y_test)\n",
    "\n",
    "#Create Parameters for XGboost\n",
    "param = {\n",
    "    'eta': 0.6, \n",
    "    'max_depth': 30,  \n",
    "    'objective': 'multi:softprob',  \n",
    "    'num_class': 3}\n",
    "steps = 80  # The number of training iterations\n",
    "\n",
    "#Train the model\n",
    "model = xgb.train(param, D_train, steps)\n",
    "\n",
    "#Perform Prediction\n",
    "preds = model.predict(D_test)\n",
    "\n",
    "#Choose best Prediction\n",
    "best_preds = np.asarray([np.argmax(line) for line in preds])\n",
    "\n",
    "print(\"****************** Metrics *********************\")\n",
    "print()\n",
    "print(\"Accuracy of the model is {}\".format(accuracy_score(y_test,best_preds)))\n",
    "print(\"Recall of the model is {}\".format(recall_score(y_test,best_preds)))\n",
    "print(\"Precision of the model is {}\".format(precision_score(y_test,best_preds)))\n",
    "print(\"F1 score of the model is {}\".format(f1_score(y_test,best_preds)))\n",
    "print()\n",
    "print(\"************** Confusion Matrix ****************\")\n",
    "print()\n",
    "print(confusion_matrix(y_test,best_preds))\n",
    "print()\n",
    "print(\"*********** Classification Report **************\")\n",
    "print()\n",
    "print(classification_report(y_test,best_preds))\n",
    "\n",
    "model_list.append('XGBoost')\n",
    "score_list.append(round(f1_score(y_test,best_preds),3))"
   ]
  },
  {
   "cell_type": "code",
   "execution_count": 55,
   "metadata": {},
   "outputs": [
    {
     "data": {
      "image/png": "[encoded data removed]",
      "text/plain": [
       "<Figure size 720x432 with 1 Axes>"
      ]
     },
     "metadata": {
      "needs_background": "light"
     },
     "output_type": "display_data"
    }
   ],
   "source": [
    "fig,ax=plt.subplots(1,1,figsize=(10,6))\n",
    "splot=sns.barplot(x=model_list,y=score_list,palette='twilight_r',tick_label=score_list,ax=ax)\n",
    "for p in splot.patches:\n",
    "    splot.annotate(format(p.get_height(), '.3f'), \n",
    "                   (p.get_x() + p.get_width() / 2., p.get_height()), \n",
    "                   ha = 'center', va = 'center', \n",
    "                   xytext = (0.00, 9.00), \n",
    "                   textcoords = 'offset points')\n",
    "ax.yaxis.set_major_formatter(FormatStrFormatter('%.3f'))\n",
    "ax.set_xlabel('Model')\n",
    "ax.set_ylabel('F1Score')\n",
    "plt.xticks(rotation=20)\n",
    "plt.tight_layout()\n",
    "plt.savefig('Images//6.Model_Performance.jpeg',dpi=300)\n",
    "plt.show()"
   ]
  },
  {
   "cell_type": "code",
   "execution_count": 56,
   "metadata": {},
   "outputs": [],
   "source": [
    "#From the above graph we can see that RandomForestClassifier is working very well\n",
    "#So we will try to hypertune its paramters"
   ]
  },
  {
   "cell_type": "code",
   "execution_count": 57,
   "metadata": {},
   "outputs": [],
   "source": [
    "#Instantiate object for RandomForest to optimize parameters\n",
    "model=RandomForestClassifier()\n",
    "model.fit(X_train,y_train)\n",
    "predict=model.predict(X_test)"
   ]
  },
  {
   "cell_type": "code",
   "execution_count": 58,
   "metadata": {},
   "outputs": [
    {
     "data": {
      "text/plain": [
       "0.9309499999999999"
      ]
     },
     "execution_count": 58,
     "metadata": {},
     "output_type": "execute_result"
    }
   ],
   "source": [
    "cross_val_score(model,X_train,y_train,cv=4).mean()"
   ]
  },
  {
   "cell_type": "code",
   "execution_count": 59,
   "metadata": {},
   "outputs": [
    {
     "data": {
      "text/plain": [
       "0.9241562304435801"
      ]
     },
     "execution_count": 59,
     "metadata": {},
     "output_type": "execute_result"
    }
   ],
   "source": [
    "fpr,tpr,threshold=roc_curve(y_test,predict)\n",
    "auc(fpr,tpr)"
   ]
  },
  {
   "cell_type": "code",
   "execution_count": 60,
   "metadata": {},
   "outputs": [],
   "source": [
    "threshold.sort()"
   ]
  },
  {
   "cell_type": "code",
   "execution_count": 61,
   "metadata": {},
   "outputs": [
    {
     "data": {
      "image/png": "[encoded data removed]",
      "text/plain": [
       "<Figure size 720x432 with 1 Axes>"
      ]
     },
     "metadata": {
      "needs_background": "light"
     },
     "output_type": "display_data"
    }
   ],
   "source": [
    "plt.figure(figsize=(10,6))\n",
    "plt.plot(fpr,tpr,marker='o',markerfacecolor='red',markersize=10,linestyle='-.')\n",
    "plt.plot(threshold)\n",
    "plt.ylim(0,1.3)\n",
    "plt.xlim(0,1.3)\n",
    "plt.savefig('Images//7.AUC_ROC_Curve.jpeg',dpi=300)\n",
    "plt.show()"
   ]
  },
  {
   "cell_type": "code",
   "execution_count": 62,
   "metadata": {},
   "outputs": [],
   "source": [
    "#Hypertune Parameter\n",
    "params={'n_estimators':[100,130,150,170,190,210,230,250,270,290,310,330]}\n",
    "gscv=GridSearchCV(model,params)"
   ]
  },
  {
   "cell_type": "code",
   "execution_count": 71,
   "metadata": {},
   "outputs": [
    {
     "data": {
      "text/plain": [
       "GridSearchCV(estimator=RandomForestClassifier(),\n",
       "             param_grid={'n_estimators': [100, 130, 150, 170, 190, 210, 230,\n",
       "                                          250, 270, 290, 310, 330]})"
      ]
     },
     "execution_count": 71,
     "metadata": {},
     "output_type": "execute_result"
    }
   ],
   "source": [
    "gscv.fit(X_train,y_train)"
   ]
  },
  {
   "cell_type": "code",
   "execution_count": 72,
   "metadata": {},
   "outputs": [
    {
     "data": {
      "text/plain": [
       "230"
      ]
     },
     "execution_count": 72,
     "metadata": {},
     "output_type": "execute_result"
    }
   ],
   "source": [
    "best_param=gscv.best_params_\n",
    "best_param['n_estimators']"
   ]
  },
  {
   "cell_type": "code",
   "execution_count": 73,
   "metadata": {},
   "outputs": [],
   "source": [
    "model=RandomForestClassifier(n_estimators=best_param['n_estimators'])\n",
    "model.fit(X_train,y_train)\n",
    "predict=model.predict(X_test)"
   ]
  },
  {
   "cell_type": "code",
   "execution_count": 74,
   "metadata": {},
   "outputs": [
    {
     "name": "stdout",
     "output_type": "stream",
     "text": [
      "****************** Metrics *********************\n",
      "\n",
      "Accuracy of the model is 0.9449\n",
      "Recall of the model is 0.9657956188146336\n",
      "Precision of the model is 0.9608806283880961\n",
      "F1 score of the model is 0.9633318544809227\n",
      "\n",
      "************** Confusion Matrix ****************\n",
      "\n",
      "[[13267  1768]\n",
      " [ 1538 43427]]\n",
      "\n",
      "*********** Classification Report **************\n",
      "\n",
      "              precision    recall  f1-score   support\n",
      "\n",
      "           0       0.90      0.88      0.89     15035\n",
      "           1       0.96      0.97      0.96     44965\n",
      "\n",
      "    accuracy                           0.94     60000\n",
      "   macro avg       0.93      0.92      0.93     60000\n",
      "weighted avg       0.94      0.94      0.94     60000\n",
      "\n"
     ]
    }
   ],
   "source": [
    "print(\"****************** Metrics *********************\")\n",
    "print()\n",
    "print(\"Accuracy of the model is {}\".format(accuracy_score(y_test,predict)))\n",
    "print(\"Recall of the model is {}\".format(recall_score(y_test,predict)))\n",
    "print(\"Precision of the model is {}\".format(precision_score(y_test,predict)))\n",
    "print(\"F1 score of the model is {}\".format(f1_score(y_test,predict)))\n",
    "print()\n",
    "print(\"************** Confusion Matrix ****************\")\n",
    "print()\n",
    "print(confusion_matrix(y_test,predict))\n",
    "print()\n",
    "print(\"*********** Classification Report **************\")\n",
    "print()\n",
    "print(classification_report(y_test,predict))"
   ]
  },
  {
   "cell_type": "code",
   "execution_count": 99,
   "metadata": {},
   "outputs": [
    {
     "data": {
      "text/html": [
       "<div>\n",
       "<style scoped>\n",
       "    .dataframe tbody tr th:only-of-type {\n",
       "        vertical-align: middle;\n",
       "    }\n",
       "\n",
       "    .dataframe tbody tr th {\n",
       "        vertical-align: top;\n",
       "    }\n",
       "\n",
       "    .dataframe thead th {\n",
       "        text-align: right;\n",
       "    }\n",
       "</style>\n",
       "<table border=\"1\" class=\"dataframe\">\n",
       "  <thead>\n",
       "    <tr style=\"text-align: right;\">\n",
       "      <th></th>\n",
       "      <th>Predicted</th>\n",
       "      <th>Original</th>\n",
       "    </tr>\n",
       "  </thead>\n",
       "  <tbody>\n",
       "    <tr>\n",
       "      <th>0</th>\n",
       "      <td>0</td>\n",
       "      <td>0</td>\n",
       "    </tr>\n",
       "    <tr>\n",
       "      <th>1</th>\n",
       "      <td>0</td>\n",
       "      <td>0</td>\n",
       "    </tr>\n",
       "    <tr>\n",
       "      <th>2</th>\n",
       "      <td>1</td>\n",
       "      <td>1</td>\n",
       "    </tr>\n",
       "    <tr>\n",
       "      <th>3</th>\n",
       "      <td>1</td>\n",
       "      <td>1</td>\n",
       "    </tr>\n",
       "    <tr>\n",
       "      <th>4</th>\n",
       "      <td>1</td>\n",
       "      <td>1</td>\n",
       "    </tr>\n",
       "    <tr>\n",
       "      <th>...</th>\n",
       "      <td>...</td>\n",
       "      <td>...</td>\n",
       "    </tr>\n",
       "    <tr>\n",
       "      <th>59995</th>\n",
       "      <td>1</td>\n",
       "      <td>1</td>\n",
       "    </tr>\n",
       "    <tr>\n",
       "      <th>59996</th>\n",
       "      <td>1</td>\n",
       "      <td>1</td>\n",
       "    </tr>\n",
       "    <tr>\n",
       "      <th>59997</th>\n",
       "      <td>0</td>\n",
       "      <td>0</td>\n",
       "    </tr>\n",
       "    <tr>\n",
       "      <th>59998</th>\n",
       "      <td>1</td>\n",
       "      <td>1</td>\n",
       "    </tr>\n",
       "    <tr>\n",
       "      <th>59999</th>\n",
       "      <td>1</td>\n",
       "      <td>1</td>\n",
       "    </tr>\n",
       "  </tbody>\n",
       "</table>\n",
       "<p>60000 rows × 2 columns</p>\n",
       "</div>"
      ],
      "text/plain": [
       "       Predicted  Original\n",
       "0              0         0\n",
       "1              0         0\n",
       "2              1         1\n",
       "3              1         1\n",
       "4              1         1\n",
       "...          ...       ...\n",
       "59995          1         1\n",
       "59996          1         1\n",
       "59997          0         0\n",
       "59998          1         1\n",
       "59999          1         1\n",
       "\n",
       "[60000 rows x 2 columns]"
      ]
     },
     "execution_count": 99,
     "metadata": {},
     "output_type": "execute_result"
    }
   ],
   "source": [
    "df_predict=pd.DataFrame(pd.Series(predict))\n",
    "df_test=pd.DataFrame(pd.Series(y_test))\n",
    "df_predict=pd.concat([df_predict.reset_index().drop('index',axis=1),df_test.reset_index().drop('index',axis=1)],axis=1)\n",
    "df_predict.columns=['Predicted','Original']\n",
    "df_pred"
   ]
  },
  {
   "cell_type": "code",
   "execution_count": 123,
   "metadata": {},
   "outputs": [],
   "source": [
    "df_predict.loc[df_predict['Predicted']==df_predict['Original'],'Result']=True\n",
    "df_predict.loc[df_predict['Predicted']!=df_predict['Original'],'Result']=False"
   ]
  },
  {
   "cell_type": "code",
   "execution_count": 128,
   "metadata": {},
   "outputs": [
    {
     "data": {
      "image/png": "[encoded data removed]",
      "text/plain": [
       "<Figure size 720x432 with 1 Axes>"
      ]
     },
     "metadata": {
      "needs_background": "light"
     },
     "output_type": "display_data"
    }
   ],
   "source": [
    "plt.figure(figsize=(10,6))\n",
    "sns.countplot(df_predict['Result'],palette='twilight')\n",
    "plt.savefig('Images//8.Result.jpeg',dpi=300)\n",
    "plt.show()"
   ]
  },
  {
   "cell_type": "code",
   "execution_count": 129,
   "metadata": {},
   "outputs": [
    {
     "data": {
      "text/plain": [
       "['Micro Credit Defaulter RF.obj']"
      ]
     },
     "execution_count": 129,
     "metadata": {},
     "output_type": "execute_result"
    }
   ],
   "source": [
    "joblib.dump(model,'Micro Credit Defaulter RF.obj')"
   ]
  }
 ],
 "metadata": {
  "kernelspec": {
   "display_name": "Python 3",
   "language": "python",
   "name": "python3"
  },
  "language_info": {
   "codemirror_mode": {
    "name": "ipython",
    "version": 3
   },
   "file_extension": ".py",
   "mimetype": "text/x-python",
   "name": "python",
   "nbconvert_exporter": "python",
   "pygments_lexer": "ipython3",
   "version": "3.8.3"
  }
 },
 "nbformat": 4,
 "nbformat_minor": 4
}
